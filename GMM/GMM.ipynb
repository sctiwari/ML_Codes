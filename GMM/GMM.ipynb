{
 "cells": [
  {
   "cell_type": "code",
   "execution_count": 87,
   "metadata": {},
   "outputs": [],
   "source": [
    "from sklearn.mixture import GaussianMixture \n",
    "import numpy as np \n",
    "import matplotlib.pyplot as plt\n",
    "import pandas as pd\n",
    "from numpy import genfromtxt\n",
    "from sklearn.preprocessing import MinMaxScaler\n",
    "#my_data = genfromtxt('my_file.csv', delimiter=',')\n",
    "min_max_scaler = MinMaxScaler()\n",
    "\n",
    "def clean_dataset(df):\n",
    "    assert isinstance(df, pd.DataFrame), \"df needs to be a pd.DataFrame\"\n",
    "    df.dropna(inplace=True)\n",
    "    indices_to_keep = ~df.isin([np.nan, np.inf, -np.inf]).any(1)\n",
    "    return df[indices_to_keep].astype(np.float64)"
   ]
  },
  {
   "cell_type": "code",
   "execution_count": 102,
   "metadata": {},
   "outputs": [
    {
     "name": "stdout",
     "output_type": "stream",
     "text": [
      "[[  2.      101.339    -2.53727 ...  -2.53727  -3.2931   -4.19683]\n",
      " [  5.      106.639    -3.82964 ...  -3.82964  -3.25307  -6.7346 ]\n",
      " [  5.      106.788    -3.17223 ...  -3.17223  -1.773    -7.21601]\n",
      " ...\n",
      " [  5.      105.926    -3.10165 ...  -3.10165  -1.97665  -5.73323]\n",
      " [  5.      105.298    -3.63633 ...  -3.63633  -1.4206   -6.17347]\n",
      " [  5.      105.742    -2.39812 ...  -2.39812  -1.99233  -4.31488]]\n"
     ]
    }
   ],
   "source": [
    "data= pd.read_csv('final.txt')\n",
    "df =pd.DataFrame(data= data)\n",
    "clean_dataset(df)\n",
    "X1=df.drop(['a', 'b', 'c', 'd', 'g'], axis=1)\n",
    "X_= X1.values\n",
    "#feature= np.column_stack((angle, crd))\n",
    "#X_= min_max_scaler.fit_transform(feature)\n",
    "print(X_)"
   ]
  },
  {
   "cell_type": "code",
   "execution_count": 103,
   "metadata": {},
   "outputs": [
    {
     "data": {
      "text/plain": [
       "array([2, 0, 0, ..., 0, 0, 0])"
      ]
     },
     "execution_count": 103,
     "metadata": {},
     "output_type": "execute_result"
    }
   ],
   "source": [
    "clf= GaussianMixture(4,max_iter=500).fit(X_)\n",
    "clf.fit_predict(X_)"
   ]
  },
  {
   "cell_type": "code",
   "execution_count": 114,
   "metadata": {},
   "outputs": [],
   "source": [
    "value=(clf.fit_predict(X_))\n"
   ]
  },
  {
   "cell_type": "code",
   "execution_count": 105,
   "metadata": {},
   "outputs": [],
   "source": [
    "X1= np.column_stack((df,value))"
   ]
  },
  {
   "cell_type": "code",
   "execution_count": 106,
   "metadata": {},
   "outputs": [],
   "source": [
    "np.savetxt('test.out', X1, delimiter=' ')"
   ]
  },
  {
   "cell_type": "code",
   "execution_count": 122,
   "metadata": {},
   "outputs": [
    {
     "name": "stdout",
     "output_type": "stream",
     "text": [
      "[2. 5. 5. ... 5. 5. 5.]\n"
     ]
    }
   ],
   "source": [
    "crd=X_[:,0]\n",
    "print(crd)"
   ]
  },
  {
   "cell_type": "code",
   "execution_count": null,
   "metadata": {},
   "outputs": [],
   "source": []
  }
 ],
 "metadata": {
  "kernelspec": {
   "display_name": "Python 3",
   "language": "python",
   "name": "python3"
  },
  "language_info": {
   "codemirror_mode": {
    "name": "ipython",
    "version": 3
   },
   "file_extension": ".py",
   "mimetype": "text/x-python",
   "name": "python",
   "nbconvert_exporter": "python",
   "pygments_lexer": "ipython3",
   "version": "3.7.3"
  }
 },
 "nbformat": 4,
 "nbformat_minor": 2
}
